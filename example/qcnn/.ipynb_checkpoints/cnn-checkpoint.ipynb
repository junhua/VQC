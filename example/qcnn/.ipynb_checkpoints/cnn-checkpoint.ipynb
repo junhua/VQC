{
 "cells": [
  {
   "cell_type": "code",
   "execution_count": 1,
   "metadata": {},
   "outputs": [],
   "source": [
    "import torch\n",
    "import torch.nn as nn\n",
    "import torch.nn.functional as F\n",
    "import torch.optim as optim\n",
    "\n",
    "X_train = torch.rand(3500, 3, 3)\n",
    "Y_train = (torch.sum(X_train>0.5, dim=(1,2))>5).float()\n",
    "X_test = torch.rand(1500, 3, 3)\n",
    "Y_test = (torch.sum(X_test>0.5, dim=(1,2))>5).float()"
   ]
  },
  {
   "cell_type": "code",
   "execution_count": 2,
   "metadata": {},
   "outputs": [],
   "source": [
    "class ConvNet(nn.Module):\n",
    "    def __init__(self):\n",
    "        super(ConvNet, self).__init__()\n",
    "        self.conv1 = nn.Conv2d(1, 3, 3, padding=1)\n",
    "        self.mp1 = nn.MaxPool2d(3, stride=1, padding=1)\n",
    "        self.conv2 = nn.Conv2d(3, 6, 3, padding=1)\n",
    "        self.mp2 = nn.MaxPool2d(3, stride=1, padding=1)\n",
    "        self.fc = nn.Linear(54, 1)\n",
    "\n",
    "    def forward(self, x):\n",
    "        in_size = x.size(0)\n",
    "        x = self.mp1(F.relu(self.conv1(x)))\n",
    "        x = self.mp2(F.relu(self.conv2(x)))\n",
    "        x = x.view(in_size, -1)\n",
    "        x = F.relu(self.fc(x))\n",
    "        return x\n",
    "\n",
    "model = ConvNet()\n",
    "\n",
    "criterion = nn.MSELoss()\n",
    "optimizer = optim.SGD(model.parameters(), lr=0.001, momentum=0.9)"
   ]
  },
  {
   "cell_type": "code",
   "execution_count": 3,
   "metadata": {},
   "outputs": [
    {
     "name": "stderr",
     "output_type": "stream",
     "text": [
      "/miniconda3/envs/camo/lib/python3.6/site-packages/torch/nn/modules/loss.py:443: UserWarning: Using a target size (torch.Size([1])) that is different to the input size (torch.Size([1, 1])). This will likely lead to incorrect results due to broadcasting. Please ensure they have the same size.\n",
      "  return F.mse_loss(input, target, reduction=self.reduction)\n",
      "/miniconda3/envs/camo/lib/python3.6/site-packages/torch/nn/modules/loss.py:443: UserWarning: Using a target size (torch.Size([1])) that is different to the input size (torch.Size([1, 1])). This will likely lead to incorrect results due to broadcasting. Please ensure they have the same size.\n",
      "  return F.mse_loss(input, target, reduction=self.reduction)\n"
     ]
    },
    {
     "name": "stdout",
     "output_type": "stream",
     "text": [
      "[1,  1000] loss: 0.172\n",
      "[1,  1000] loss: 0.172\n",
      "[1,  2000] loss: 0.127\n",
      "[1,  2000] loss: 0.127\n",
      "[1,  3000] loss: 0.127\n",
      "[1,  3000] loss: 0.127\n",
      "[2,  1000] loss: 0.114\n",
      "[2,  1000] loss: 0.114\n",
      "[2,  2000] loss: 0.103\n",
      "[2,  2000] loss: 0.103\n",
      "[2,  3000] loss: 0.118\n",
      "[2,  3000] loss: 0.118\n"
     ]
    }
   ],
   "source": [
    "# \n",
    "# Training\n",
    "# \n",
    "for epoch in range(100):  # loop over the dataset multiple times\n",
    "\n",
    "    running_loss = 0.0\n",
    "    for i in range(len(Y_train)):\n",
    "        # get the inputs; data is a list of [inputs, labels]\n",
    "        inputs, labels = X_train[i], torch.tensor([Y_train[i]])\n",
    "        inputs = inputs.view(1,1,len(inputs), len(inputs))\n",
    "        # zero the parameter gradients\n",
    "        optimizer.zero_grad()\n",
    "\n",
    "        # forward + backward + optimize\n",
    "        outputs = model(inputs)\n",
    "\n",
    "        loss = criterion(outputs, labels)\n",
    "        loss.backward()\n",
    "        optimizer.step()\n",
    "\n",
    "        # print statistics\n",
    "        running_loss += loss.item()\n",
    "\n",
    "    print('Epoch %d loss: %.3f' % (epoch + 1, i + 1))\n",
    "    running_loss = 0.0\n"
   ]
  },
  {
   "cell_type": "code",
   "execution_count": 5,
   "metadata": {},
   "outputs": [
    {
     "name": "stderr",
     "output_type": "stream",
     "text": [
      "/miniconda3/envs/camo/lib/python3.6/site-packages/ipykernel_launcher.py:5: UserWarning: To copy construct from a tensor, it is recommended to use sourceTensor.clone().detach() or sourceTensor.clone().detach().requires_grad_(True), rather than torch.tensor(sourceTensor).\n",
      "  \"\"\"\n",
      "/miniconda3/envs/camo/lib/python3.6/site-packages/ipykernel_launcher.py:5: UserWarning: To copy construct from a tensor, it is recommended to use sourceTensor.clone().detach() or sourceTensor.clone().detach().requires_grad_(True), rather than torch.tensor(sourceTensor).\n",
      "  \"\"\"\n"
     ]
    },
    {
     "name": "stdout",
     "output_type": "stream",
     "text": [
      "Accuracy of the network on the 1500 test images: 73 %\n",
      "Accuracy of the network on the 1500 test images: 73 %\n"
     ]
    }
   ],
   "source": [
    "correct = 0.\n",
    "total = float(len(Y_test))\n",
    "with torch.no_grad():\n",
    "    for i in range(len(Y_test)):\n",
    "        images, labels = X_test[i], torch.tensor(Y_test[i])\n",
    "        images = images.view(1,1,len(images), len(images))\n",
    "        \n",
    "        outputs = model(images)\n",
    "        _, predicted = torch.max(outputs.data, 1)\n",
    "        correct += (int(predicted[0]) == int(labels))\n",
    "\n",
    "print('Accuracy of the network on the %d test images: %d %%' % (len(Y_test),\n",
    "    100 * correct / total))"
   ]
  },
  {
   "cell_type": "code",
   "execution_count": null,
   "metadata": {},
   "outputs": [],
   "source": []
  }
 ],
 "metadata": {
  "@webio": {
   "lastCommId": null,
   "lastKernelId": null
  },
  "kernelspec": {
   "display_name": "Python 3",
   "language": "python",
   "name": "python3"
  },
  "language_info": {
   "codemirror_mode": {
    "name": "ipython",
    "version": 3
   },
   "file_extension": ".py",
   "mimetype": "text/x-python",
   "name": "python",
   "nbconvert_exporter": "python",
   "pygments_lexer": "ipython3",
   "version": "3.6.8"
  }
 },
 "nbformat": 4,
 "nbformat_minor": 2
}
