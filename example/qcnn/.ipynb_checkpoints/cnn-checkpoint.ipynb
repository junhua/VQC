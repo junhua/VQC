{
 "cells": [
  {
   "cell_type": "code",
   "execution_count": 1,
   "metadata": {},
   "outputs": [],
   "source": [
    "import torch\n",
    "import torch.nn as nn\n",
    "import torch.nn.functional as F\n",
    "import torch.optim as optim\n",
    "\n",
    "X_train = torch.rand(70, 3, 3)\n",
    "Y_train = (torch.sum(X_train>0.5, dim=(1,2))>4).float()\n",
    "X_test = torch.rand(30, 3, 3)\n",
    "Y_test = (torch.sum(X_test>0.5, dim=(1,2))>4).float()\n"
   ]
  },
  {
   "cell_type": "code",
   "execution_count": 2,
   "metadata": {},
   "outputs": [],
   "source": [
    "class ConvNet(nn.Module):\n",
    "    def __init__(self):\n",
    "        super(ConvNet, self).__init__()\n",
    "        self.conv1 = nn.Conv2d(1, 3, 3, padding=1)\n",
    "        self.mp1 = nn.MaxPool2d(3, stride=1, padding=1)\n",
    "        self.conv2 = nn.Conv2d(3, 6, 3, padding=1)\n",
    "        self.mp2 = nn.MaxPool2d(3, stride=1, padding=1)\n",
    "        self.fc = nn.Linear(54, 1)\n",
    "\n",
    "    def forward(self, x):\n",
    "        in_size = x.size(0)\n",
    "        x = self.mp1(F.relu(self.conv1(x)))\n",
    "        x = self.mp2(F.relu(self.conv2(x)))\n",
    "        x = x.view(in_size, -1)\n",
    "        x = self.fc(x)\n",
    "        return x\n",
    "\n",
    "model = ConvNet()\n",
    "\n",
    "criterion = nn.MSELoss()\n",
    "optimizer = optim.SGD(model.parameters(), lr=0.001, momentum=0.9)"
   ]
  },
  {
   "cell_type": "code",
   "execution_count": 63,
   "metadata": {},
   "outputs": [
    {
     "name": "stdout",
     "output_type": "stream",
     "text": [
      "[1,  1000] loss: 0.206\n",
      "[1,  1000] loss: 0.206\n",
      "[2,  1000] loss: 0.174\n",
      "[2,  1000] loss: 0.174\n",
      "[3,  1000] loss: 0.160\n",
      "[3,  1000] loss: 0.160\n",
      "[4,  1000] loss: 0.152\n",
      "[4,  1000] loss: 0.152\n",
      "[5,  1000] loss: 0.135\n",
      "[5,  1000] loss: 0.135\n",
      "[6,  1000] loss: 0.131\n",
      "[6,  1000] loss: 0.131\n",
      "[7,  1000] loss: 0.128\n",
      "[7,  1000] loss: 0.128\n",
      "[8,  1000] loss: 0.126\n",
      "[8,  1000] loss: 0.126\n",
      "[9,  1000] loss: 0.124\n",
      "[9,  1000] loss: 0.124\n",
      "[10,  1000] loss: 0.121\n",
      "[10,  1000] loss: 0.121\n"
     ]
    }
   ],
   "source": [
    "# \n",
    "# Training\n",
    "# \n",
    "for epoch in range(10):  # loop over the dataset multiple times\n",
    "\n",
    "    running_loss = 0.0\n",
    "    for i in range(len(Y_train)):\n",
    "        # get the inputs; data is a list of [inputs, labels]\n",
    "        inputs, labels = X_train[i], torch.tensor([Y_train[i]])\n",
    "        inputs = inputs.view(1,1,len(inputs), len(inputs))\n",
    "        # zero the parameter gradients\n",
    "        optimizer.zero_grad()\n",
    "\n",
    "        # forward + backward + optimize\n",
    "        outputs = model(inputs)\n",
    "\n",
    "        loss = criterion(outputs, labels)\n",
    "        loss.backward()\n",
    "        optimizer.step()\n",
    "\n",
    "        # print statistics\n",
    "        running_loss += loss.item()\n",
    "    print (\"Epoch: %d, Loss: %.3f\"%(epoch+1, running_loss))\n",
    "#         if i % 1000 == 999:    # print every 1000 mini-batches\n",
    "#             print('[%d, %5d] loss: %.3f' %\n",
    "#                   (epoch + 1, i + 1, running_loss / 1000))\n",
    "#             running_loss = 0.0\n",
    "#             break\n"
   ]
  },
  {
   "cell_type": "code",
   "execution_count": 64,
   "metadata": {},
   "outputs": [
    {
     "name": "stderr",
     "output_type": "stream",
     "text": [
      "/miniconda3/envs/camo/lib/python3.6/site-packages/ipykernel_launcher.py:7: UserWarning: To copy construct from a tensor, it is recommended to use sourceTensor.clone().detach() or sourceTensor.clone().detach().requires_grad_(True), rather than torch.tensor(sourceTensor).\n",
      "  import sys\n",
      "/miniconda3/envs/camo/lib/python3.6/site-packages/ipykernel_launcher.py:7: UserWarning: To copy construct from a tensor, it is recommended to use sourceTensor.clone().detach() or sourceTensor.clone().detach().requires_grad_(True), rather than torch.tensor(sourceTensor).\n",
      "  import sys\n"
     ]
    },
    {
     "name": "stdout",
     "output_type": "stream",
     "text": [
      "Accuracy of the network on the 1500 test images: 84 %\n",
      "Accuracy of the network on the 1500 test images: 84 %\n"
     ]
    }
   ],
   "source": [
    "correct = 0.\n",
    "total = float(len(Y_test))\n",
    "\n",
    "outputs = []\n",
    "with torch.no_grad():\n",
    "    for i in range(len(Y_test)):\n",
    "        images, labels = X_test[i], torch.tensor(Y_test[i])\n",
    "        images = images.view(1,1,len(images), len(images))\n",
    "        \n",
    "        output = model(images)\n",
    "        outputs.append(output)\n",
    "\n",
    "        predicted = output.data > 0.5\n",
    "\n",
    "        correct += (int(predicted[0]) == int(labels))\n",
    "\n",
    "print('Accuracy of the network on the %d test images: %d %%' % (len(Y_test),\n",
    "    100 * correct / total))"
   ]
  },
  {
   "cell_type": "code",
   "execution_count": null,
   "metadata": {},
   "outputs": [],
   "source": []
  }
 ],
 "metadata": {
  "@webio": {
   "lastCommId": null,
   "lastKernelId": null
  },
  "kernelspec": {
   "display_name": "Python 3",
   "language": "python",
   "name": "python3"
  },
  "language_info": {
   "codemirror_mode": {
    "name": "ipython",
    "version": 3
   },
   "file_extension": ".py",
   "mimetype": "text/x-python",
   "name": "python",
   "nbconvert_exporter": "python",
   "pygments_lexer": "ipython3",
   "version": "3.6.8"
  }
 },
 "nbformat": 4,
 "nbformat_minor": 2
}
